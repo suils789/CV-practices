{
 "cells": [
  {
   "cell_type": "code",
   "execution_count": 1,
   "metadata": {},
   "outputs": [
    {
     "name": "stderr",
     "output_type": "stream",
     "text": [
      "Using TensorFlow backend.\n"
     ]
    }
   ],
   "source": [
    "import tensorflow as tf\n",
    "import numpy as np\n",
    "import matplotlib.pyplot as plt\n",
    "import keras\n",
    "import scipy\n",
    "%matplotlib inline"
   ]
  },
  {
   "cell_type": "code",
   "execution_count": 2,
   "metadata": {},
   "outputs": [],
   "source": [
    "config = tf.ConfigProto()\n",
    "config.gpu_options.allow_growth = True\n",
    "config.log_device_placement = True\n",
    "sess = tf.Session(config=config)"
   ]
  },
  {
   "cell_type": "code",
   "execution_count": 3,
   "metadata": {},
   "outputs": [],
   "source": [
    "LEARNING_RATE = 0.0002\n",
    "BETA1 = 0.5\n",
    "BATCH_SIZE = 64\n",
    "EPOCHS = 5\n",
    "SAVE_SAMPLE_PERIOD = 50"
   ]
  },
  {
   "cell_type": "code",
   "execution_count": 4,
   "metadata": {},
   "outputs": [],
   "source": [
    "def new_weights(shape):\n",
    "    return tf.Variable(tf.truncated_normal(shape, stddev=0.05))\n",
    "def new_biases(length):\n",
    "    return tf.Variable(tf.constant(0.05, shape=[length]))"
   ]
  },
  {
   "cell_type": "code",
   "execution_count": 5,
   "metadata": {},
   "outputs": [],
   "source": [
    "class ConvLayer:\n",
    "    def __init__(self, filter_size, num_input_channels, num_filters, stride=2, padding='SAME', name=None):\n",
    "        shape = [filter_size, filter_size, num_input_channels, num_filters]\n",
    "        self.shape = shape\n",
    "        self.W = new_weights(shape)\n",
    "        self.b = new_biases(num_filters)\n",
    "        self.stride = stride\n",
    "        self.padding = padding\n",
    "        self.params = [self.W, self.b]\n",
    "        self.name = name\n",
    "        \n",
    "    def forward(self, X):\n",
    "        X = tf.nn.conv2d(X, self.W, strides=[1, self.stride, self.stride, 1], padding=self.padding)\n",
    "        return X + self.b"
   ]
  },
  {
   "cell_type": "code",
   "execution_count": 6,
   "metadata": {},
   "outputs": [],
   "source": [
    "class BatchNormLayer:\n",
    "    def __init__(self, D, name=None):\n",
    "        self.mean = tf.Variable(np.zeros(D, dtype=np.float32), trainable=False)\n",
    "        self.var = tf.Variable(np.ones(D, dtype=np.float32), trainable=False)\n",
    "        self.gamma = tf.Variable(np.ones(D, dtype=np.float32))\n",
    "        self.beta = tf.Variable(np.zeros(D, dtype=np.float32))\n",
    "        self.params = [self.gamma, self.beta]\n",
    "        self.name = name\n",
    "    def forward(self, X):\n",
    "        return tf.nn.batch_normalization(X, self.mean, self.var, self.beta, self.gamma, 1e-3)"
   ]
  },
  {
   "cell_type": "code",
   "execution_count": 7,
   "metadata": {},
   "outputs": [],
   "source": [
    "class DeConvLayer:\n",
    "    def __init__(self, filter_size, num_input_channels, num_filters, output_shape, stride=2, padding='SAME', name=None):\n",
    "        shape = [filter_size, filter_size, num_filters, num_input_channels]\n",
    "        self.shape = shape\n",
    "        self.W = new_weights(shape)\n",
    "        self.b = new_biases(num_filters)\n",
    "        self.stride = stride\n",
    "        self.padding = padding\n",
    "        self.output_shape = output_shape\n",
    "        self.params = [self.W, self.b]\n",
    "        self.name = name\n",
    "        \n",
    "    def forward(self, X):\n",
    "        X = tf.nn.conv2d_transpose(X, self.W, self.output_shape, \n",
    "                                   strides=[1, self.stride, self.stride, 1], padding=self.padding)\n",
    "        return X + self.b"
   ]
  },
  {
   "cell_type": "code",
   "execution_count": 8,
   "metadata": {},
   "outputs": [],
   "source": [
    "class DenseLayer:\n",
    "    def __init__(self, input_size, output_size, name=None):\n",
    "        self.W = new_weights([input_size, output_size])\n",
    "        self.b = new_biases(output_size)\n",
    "        self.params = [self.W, self.b]\n",
    "        self.name = name\n",
    "        \n",
    "    def forward(self, X):\n",
    "        return tf.matmul(X, self.W) + self.b"
   ]
  },
  {
   "cell_type": "code",
   "execution_count": 9,
   "metadata": {},
   "outputs": [],
   "source": [
    "class ReLUlayer:\n",
    "    def __init__(self, name=None):\n",
    "        self.params = []\n",
    "        self.name = name\n",
    "    def forward(self, X):\n",
    "        return tf.nn.relu(X)"
   ]
  },
  {
   "cell_type": "code",
   "execution_count": 10,
   "metadata": {},
   "outputs": [],
   "source": [
    "class LeakyReLUlayer:\n",
    "    def __init__(self, name=None):\n",
    "        self.params = []\n",
    "        self.name = name\n",
    "    def forward(self, X, alpha = 0.2):\n",
    "        return tf.maximum(alpha*X, X)"
   ]
  },
  {
   "cell_type": "code",
   "execution_count": 11,
   "metadata": {},
   "outputs": [],
   "source": [
    "class DCGAN:\n",
    "    def __init__(self, img_length, num_colors, d_config, g_config, session):\n",
    "        self.w = img_length\n",
    "        self.h = img_length\n",
    "        self.c = num_colors\n",
    "        self.d_params = []\n",
    "        self.g_params = []\n",
    "        self.latent_dims = g_config['z']\n",
    "        # real input\n",
    "        self.X = tf.placeholder(tf.float32, shape=(None, img_length, img_length, num_colors), name='X')\n",
    "        # fake input\n",
    "        self.Z = tf.placeholder(tf.float32, shape=(None, self.latent_dims), name='Z')\n",
    "        \n",
    "        self.batch_size = tf.placeholder(tf.int32, shape=(), name='batch_size')\n",
    "        # build discriminator \n",
    "        logits = self.build_discriminator(self.X, d_config)\n",
    "        # build generator\n",
    "        self.sample_image = self.build_generator(self.Z, g_config)\n",
    "        \n",
    "#         with tf.variable_scope(\"discriminator\") as scope:\n",
    "#             scope.reuse_variables()\n",
    "        sample_logits = self.d_forward(self.sample_image)\n",
    "        \n",
    "#             with tf.variable_scope('generator') as scope:\n",
    "#                 scope.reuse_variables()\n",
    "        self.sample_images_test = self.g_forward(self.Z)\n",
    "            \n",
    "        # discriminator costs\n",
    "        self.d_cost_real = tf.nn.sigmoid_cross_entropy_with_logits(logits=logits, labels=tf.ones_like(logits))\n",
    "        self.d_cost_fake = tf.nn.sigmoid_cross_entropy_with_logits(logits=sample_logits, labels=tf.zeros_like(sample_logits))\n",
    "        self.d_cost = tf.reduce_mean(self.d_cost_real) + tf.reduce_mean(self.d_cost_fake)\n",
    "        # generator costs\n",
    "        self.g_cost = tf.reduce_mean(\n",
    "            tf.nn.sigmoid_cross_entropy_with_logits(logits=sample_logits, labels=tf.ones_like(sample_logits))\n",
    "        )\n",
    "        \n",
    "        # optimizer\n",
    "        self.get_d_params()\n",
    "        self.get_g_params()\n",
    "        self.d_train_op = tf.train.AdamOptimizer(LEARNING_RATE, beta1=BETA1).minimize(self.d_cost, var_list=self.d_params)\n",
    "        self.g_train_op = tf.train.AdamOptimizer(LEARNING_RATE, beta1=BETA1).minimize(self.g_cost, var_list=self.g_params)\n",
    "        \n",
    "        self.init_op = tf.global_variables_initializer()\n",
    "        self.sess = session\n",
    "        self.sess.run(self.init_op)\n",
    "    \n",
    "    def build_discriminator(self, X, d_config):\n",
    "        with tf.variable_scope('discriminator') as scope:\n",
    "            w, h = self.w, self.h\n",
    "            self.d_conv_layers = []\n",
    "            num_input_channels = self.c\n",
    "            count = 1\n",
    "            # build conv layers\n",
    "            for filter_size, num_filters, stride, batch_norm in d_config['conv_layers']:\n",
    "                name = 'dconv_' + str(count)\n",
    "                self.d_conv_layers.append(ConvLayer(filter_size, num_input_channels, num_filters, stride, name=name))\n",
    "                w /= stride\n",
    "                h /= stride\n",
    "                if batch_norm:\n",
    "                    name = 'dbatchnorm_'+ str(count)\n",
    "                    self.d_conv_layers.append(BatchNormLayer(num_filters, name=name))\n",
    "\n",
    "                name = 'drelu_'+ str(count)    \n",
    "                self.d_conv_layers.append(LeakyReLUlayer(name=name))\n",
    "\n",
    "                num_input_channels = num_filters\n",
    "                count += 1\n",
    "\n",
    "            # build dense layers\n",
    "            self.d_dense_layers = []\n",
    "            input_size = int(w * h * num_input_channels)\n",
    "            for output_size, batch_norm in d_config['dense_layers']:\n",
    "                name = 'ddense_' + str(count)\n",
    "                self.d_dense_layers.append(DenseLayer(input_size, output_size, name=name))\n",
    "\n",
    "                if batch_norm:\n",
    "                    name = 'dbatchnorm_'+ str(count)\n",
    "                    self.d_dense_layers.append(BatchNormLayer(output_size, name=name))\n",
    "\n",
    "                name = 'drelu_'+ str(count)\n",
    "                self.d_dense_layers.append(LeakyReLUlayer(name=name))  \n",
    "\n",
    "                input_size = output_size\n",
    "                count += 1\n",
    "\n",
    "            self.final_dense_layer = DenseLayer(input_size, 1, name='ddense_' + str(count))\n",
    "\n",
    "            logits = self.d_forward(X)\n",
    "        \n",
    "            return logits\n",
    "        \n",
    "    def get_d_params(self):\n",
    "        for layer in self.d_conv_layers:\n",
    "            self.d_params += layer.params\n",
    "        \n",
    "        for layer in self.d_dense_layers:\n",
    "            self.d_params += layer.params\n",
    "        \n",
    "        self.d_params += self.final_dense_layer.params\n",
    "        \n",
    "    def d_forward(self, X):\n",
    "        for layer in self.d_conv_layers:\n",
    "            X = layer.forward(X)\n",
    "            \n",
    "        X = tf.layers.flatten(X)\n",
    "        for layer in self.d_dense_layers:\n",
    "            X = layer.forward(X)\n",
    "            \n",
    "        logits = self.final_dense_layer.forward(X)\n",
    "        return logits\n",
    "                \n",
    "    def build_generator(self, Z, g_config):\n",
    "        with tf.variable_scope('generator') as scope:\n",
    "            self.g_dense_layers = []\n",
    "            count = 1\n",
    "            input_size = self.latent_dims\n",
    "            for output_size, batch_norm in g_config['dense_layers']:\n",
    "                name = 'gdense_' + str(count)\n",
    "                self.g_dense_layers.append(DenseLayer(input_size, output_size, name=name))\n",
    "\n",
    "                if batch_norm:\n",
    "                    name = 'gbatchnorm_'+ str(count)\n",
    "                    self.g_dense_layers.append(BatchNormLayer(output_size, name=name))\n",
    "\n",
    "                name = 'grelu_'+ str(count)\n",
    "                self.g_dense_layers.append(ReLUlayer(name=name))  \n",
    "\n",
    "                input_size = output_size\n",
    "                count += 1\n",
    "                \n",
    "            \n",
    "            self.g_conv_layers = []\n",
    "            self.dims = [self.w]\n",
    "            dim = self.w\n",
    "            for _, _, stride, _ in reversed(g_config['conv_layers'][1:]):\n",
    "                dim = dim // stride\n",
    "                self.dims.append(dim)\n",
    "                \n",
    "            num_input_channels = input_size // g_config['projection_dim']**2\n",
    "            for filter_size, num_filters, stride, batch_norm in g_config['conv_layers'][:-1]:\n",
    "                name = 'gconv_' + str(count)\n",
    "                dim = self.dims.pop()\n",
    "                output_shape = [self.batch_size, dim, dim, num_filters]\n",
    "                self.g_conv_layers.append(DeConvLayer(filter_size, num_input_channels, num_filters,\n",
    "                                                      output_shape, stride, name=name))\n",
    "\n",
    "                if batch_norm:\n",
    "                    name = 'gbatchnorm_'+ str(count)\n",
    "                    self.g_conv_layers.append(BatchNormLayer(num_filters, name=name))\n",
    "\n",
    "                name = 'grelu_'+ str(count)    \n",
    "                self.g_conv_layers.append(ReLUlayer(name=name))\n",
    "\n",
    "                num_input_channels = num_filters\n",
    "                count += 1\n",
    "\n",
    "            dim = self.dims.pop()\n",
    "            filter_size, num_filters, stride, _ = g_config['conv_layers'][-1]\n",
    "            output_shape = [self.batch_size, dim, dim, num_filters]\n",
    "            self.g_final_conv_layer = DeConvLayer(filter_size, num_input_channels, num_filters,\n",
    "                                                      output_shape, stride, name='gconv_' + str(count))\n",
    "\n",
    "            return self.g_forward(Z)\n",
    "    \n",
    "    def get_g_params(self):\n",
    "        for layer in self.g_dense_layers:\n",
    "            self.g_params += layer.params\n",
    "            \n",
    "        for layer in self.g_conv_layers:\n",
    "            self.g_params += layer.params\n",
    "        \n",
    "        self.g_params += self.g_final_conv_layer.params\n",
    "        \n",
    "        \n",
    "    def g_forward(self, Z):\n",
    "        for layer in self.g_dense_layers:\n",
    "            print(Z.shape)\n",
    "            Z = layer.forward(Z)\n",
    "        \n",
    "        projection_dim = g_config['projection_dim']\n",
    "        Z = tf.reshape(Z, [-1, projection_dim, projection_dim, Z.shape[1].value//projection_dim**2])\n",
    "        for layer in self.g_conv_layers:\n",
    "            print(Z.shape)\n",
    "            Z = layer.forward(Z)\n",
    "        \n",
    "        Z = self.g_final_conv_layer.forward(Z)\n",
    "        print(Z.shape)\n",
    "        Z = tf.nn.tanh(Z)\n",
    "        return Z\n",
    "        \n",
    "    \n",
    "    def samples(self, n):\n",
    "        Z = np.random.uniform(-1, 1, size=(n, self.latent_dims))\n",
    "        samples = self.sess.run(self.sample_images_test, feed_dict={self.Z:Z, self.batch_size:n})\n",
    "        return samples\n",
    "    \n",
    "    def fit(self, X):\n",
    "        d_costs, g_costs = [], []\n",
    "        N = len(X)\n",
    "        n_batches = N // BATCH_SIZE\n",
    "        total_iters = 0\n",
    "        for i in range(EPOCHS):\n",
    "            print(\"Epoch: \", i)\n",
    "            np.random.shuffle(X)\n",
    "            for j in range(n_batches):\n",
    "                batch = X[j*BATCH_SIZE: (j+1)*BATCH_SIZE]\n",
    "            \n",
    "                Z = np.random.uniform(-1, 1, size=(BATCH_SIZE, self.latent_dims))\n",
    "\n",
    "                _, d_cost = self.sess.run(\n",
    "                    (self.d_train_op, self.d_cost), feed_dict={self.X : batch, self.Z : Z, self.batch_size : BATCH_SIZE}\n",
    "                )\n",
    "\n",
    "                d_costs.append(d_cost)\n",
    "\n",
    "                _, g_cost1 = self.sess.run(\n",
    "                    (self.g_train_op, self.g_cost), feed_dict={self.Z : Z, self.batch_size : BATCH_SIZE}\n",
    "                )\n",
    "\n",
    "                _, g_cost2 = self.sess.run(\n",
    "                    (self.g_train_op, self.g_cost), feed_dict={self.Z : Z, self.batch_size : BATCH_SIZE}\n",
    "                )\n",
    "                \n",
    "                g_cost = (g_cost1 + g_cost2)/2\n",
    "                g_costs.append(g_cost)\n",
    "                \n",
    "                if j % 100 == 0:\n",
    "                    print(\"iter: %d, generator_cost: %.3f, discriminator_cost: %.3f\" % (j, g_cost, d_cost))\n",
    "                \n",
    "                total_iters += 1\n",
    "                \n",
    "                if total_iters % SAVE_SAMPLE_PERIOD == 0:\n",
    "                    print(\"saving a sample\")\n",
    "                    samples = self.samples(64)\n",
    "                    d = self.w\n",
    "                    \n",
    "                    if samples.shape[-1] == 1:\n",
    "                        samples = samples.reshape(64, d, d)\n",
    "                        flat_image = np.empty((8*d, 8*d))\n",
    "                        \n",
    "                        k = 0\n",
    "                        for i in range(8):\n",
    "                            for j in range(8):\n",
    "                                flat_image[i*d:(i+1)*d, j*d:(j+1)*d] = samples[k].reshape(d, d)\n",
    "                                k += 1\n",
    "                    else:\n",
    "                        flat_image = np.empty((8*d, 8*d, 3))\n",
    "                        k = 0\n",
    "                        for i in range(8):\n",
    "                            for j in range(8):\n",
    "                                flat_image[i*d:(i+1)*d, j*d:(j+1)*d] = samples[k]\n",
    "                                k += 1\n",
    "                        \n",
    "                    \n",
    "                    scipy.misc.imsave('./images/DCGAN/samples/samples_at_iter_%d.png' % total_iters, flat_image)\n",
    "                \n",
    "        plt.clf()\n",
    "        plt.plot(d_costs, label='discriminator cost')\n",
    "        plt.plot(g_costs, label='generator cost')\n",
    "        plt.legend()\n",
    "        plt.show()"
   ]
  },
  {
   "cell_type": "code",
   "execution_count": null,
   "metadata": {},
   "outputs": [],
   "source": [
    "from keras.datasets import mnist\n",
    "(X, _), (_, _) = mnist.load_data()\n",
    "X = X.astype('float32')\n",
    "X /= 255\n",
    "X = X.reshape(len(X), 28, 28, 1)\n",
    "dim = X.shape[1]\n",
    "colors = X.shape[-1]\n",
    "\n",
    "d_config = {'conv_layers':[(3, 64, 1, False), (3, 32, 2, True), (3, 16, 2, True)], \n",
    "           'dense_layers':[(256, True), (128, True)]}\n",
    "\n",
    "g_config = {'z':100, \n",
    "           'conv_layers': [(3, 32, 1, True), (3, 64, 1, True), (3, 128, 2, True), (3, colors, 2, False)], \n",
    "           'dense_layers': [(980, True)]}"
   ]
  },
  {
   "cell_type": "code",
   "execution_count": null,
   "metadata": {
    "scrolled": false
   },
   "outputs": [],
   "source": [
    "gan = DCGAN(dim, colors, d_config, g_config, sess)"
   ]
  },
  {
   "cell_type": "code",
   "execution_count": null,
   "metadata": {
    "scrolled": false
   },
   "outputs": [],
   "source": [
    "gan.fit(X)"
   ]
  },
  {
   "cell_type": "code",
   "execution_count": 12,
   "metadata": {},
   "outputs": [],
   "source": [
    "from keras.preprocessing.image import load_img, save_img, img_to_array\n",
    "import glob"
   ]
  },
  {
   "cell_type": "code",
   "execution_count": 14,
   "metadata": {},
   "outputs": [],
   "source": [
    "def preprocess_image(image_path):\n",
    "    img = load_img(image_path)\n",
    "    img = img_to_array(img)\n",
    "    h, w, c = img.shape\n",
    "    edge_h = int(round(h - 108) / 2.0)\n",
    "    edge_w = int(round(w - 108) / 2.0)\n",
    "    img = img[edge_h:edge_h + 128, edge_w:edge_w + 128]\n",
    "    img = scipy.misc.imresize(img, (64, 64))\n",
    "    img = img.astype('float32')\n",
    "    img = (img / 255) * 2.0 - 1.0\n",
    "    return img"
   ]
  },
  {
   "cell_type": "code",
   "execution_count": 15,
   "metadata": {},
   "outputs": [
    {
     "name": "stderr",
     "output_type": "stream",
     "text": [
      "C:\\Users\\Owner\\Anaconda3\\envs\\py35\\lib\\site-packages\\ipykernel_launcher.py:8: DeprecationWarning: `imresize` is deprecated!\n",
      "`imresize` is deprecated in SciPy 1.0.0, and will be removed in 1.2.0.\n",
      "Use ``skimage.transform.resize`` instead.\n",
      "  \n"
     ]
    }
   ],
   "source": [
    "i = 0\n",
    "img_list = []\n",
    "for path in glob.glob('./images/DCGAN/img_align_celeba/*.jpg'):\n",
    "    img = preprocess_image(path)\n",
    "    img_list.append(img)\n",
    "    i += 1\n",
    "    if i == 60000:\n",
    "        break"
   ]
  },
  {
   "cell_type": "code",
   "execution_count": 16,
   "metadata": {},
   "outputs": [
    {
     "name": "stderr",
     "output_type": "stream",
     "text": [
      "Clipping input data to the valid range for imshow with RGB data ([0..1] for floats or [0..255] for integers).\n"
     ]
    },
    {
     "data": {
      "text/plain": [
       "<matplotlib.image.AxesImage at 0x2465c1dc550>"
      ]
     },
     "execution_count": 16,
     "metadata": {},
     "output_type": "execute_result"
    },
    {
     "data": {
      "image/png": "[encoded data removed]",
      "text/plain": [
       "<Figure size 432x288 with 1 Axes>"
      ]
     },
     "metadata": {
      "needs_background": "light"
     },
     "output_type": "display_data"
    }
   ],
   "source": [
    "plt.imshow(img_list[23])"
   ]
  },
  {
   "cell_type": "code",
   "execution_count": 17,
   "metadata": {},
   "outputs": [],
   "source": [
    "X = np.array(img_list)\n",
    "X = X.reshape(len(X), X.shape[2], X.shape[2], X.shape[-1])\n",
    "dim = X.shape[1]\n",
    "colors = X.shape[-1]"
   ]
  },
  {
   "cell_type": "code",
   "execution_count": 18,
   "metadata": {},
   "outputs": [],
   "source": [
    "d_config = {'conv_layers':[(5, 64, 2, False), (5, 128, 2, True), (5, 256, 2, True), (5, 512, 2, True)], \n",
    "           'dense_layers':[]}\n",
    "\n",
    "g_config = {'z':100, \n",
    "           'conv_layers': [(5, 256, 2, True), (5, 128, 2, True), (5, 64, 2, True), (5, colors, 2, False)], \n",
    "           'dense_layers': [(512, True)],\n",
    "           'projection_dim': 4}"
   ]
  },
  {
   "cell_type": "code",
   "execution_count": 19,
   "metadata": {},
   "outputs": [
    {
     "name": "stdout",
     "output_type": "stream",
     "text": [
      "(?, 100)\n",
      "(?, 512)\n",
      "(?, 512)\n",
      "(?, 4, 4, 32)\n",
      "(?, 8, 8, 256)\n",
      "(?, 8, 8, 256)\n",
      "(?, 8, 8, 256)\n",
      "(?, 16, 16, 128)\n",
      "(?, 16, 16, 128)\n",
      "(?, 16, 16, 128)\n",
      "(?, 32, 32, 64)\n",
      "(?, 32, 32, 64)\n",
      "(?, 64, 64, 3)\n",
      "(?, 100)\n",
      "(?, 512)\n",
      "(?, 512)\n",
      "(?, 4, 4, 32)\n",
      "(?, 8, 8, 256)\n",
      "(?, 8, 8, 256)\n",
      "(?, 8, 8, 256)\n",
      "(?, 16, 16, 128)\n",
      "(?, 16, 16, 128)\n",
      "(?, 16, 16, 128)\n",
      "(?, 32, 32, 64)\n",
      "(?, 32, 32, 64)\n",
      "(?, 64, 64, 3)\n"
     ]
    }
   ],
   "source": [
    "gan = DCGAN(dim, colors, d_config, g_config, sess)"
   ]
  },
  {
   "cell_type": "code",
   "execution_count": null,
   "metadata": {},
   "outputs": [],
   "source": []
  }
 ],
 "metadata": {
  "kernelspec": {
   "display_name": "tensorflow-gpu",
   "language": "python",
   "name": "py35"
  },
  "language_info": {
   "codemirror_mode": {
    "name": "ipython",
    "version": 3
   },
   "file_extension": ".py",
   "mimetype": "text/x-python",
   "name": "python",
   "nbconvert_exporter": "python",
   "pygments_lexer": "ipython3",
   "version": "3.5.6"
  }
 },
 "nbformat": 4,
 "nbformat_minor": 2
}
