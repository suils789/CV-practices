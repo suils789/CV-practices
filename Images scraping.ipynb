{
 "cells": [
  {
   "cell_type": "code",
   "execution_count": 1,
   "metadata": {},
   "outputs": [],
   "source": [
    "from icrawler.builtin import GoogleImageCrawler"
   ]
  },
  {
   "cell_type": "code",
   "execution_count": 12,
   "metadata": {
    "scrolled": false
   },
   "outputs": [
    {
     "name": "stderr",
     "output_type": "stream",
     "text": [
      "2019-03-05 15:10:32,411 - INFO - icrawler.crawler - start crawling...\n",
      "2019-03-05 15:10:32,412 - INFO - icrawler.crawler - starting 1 feeder threads...\n",
      "2019-03-05 15:10:32,413 - INFO - feeder - thread feeder-001 exit\n",
      "2019-03-05 15:10:32,413 - INFO - icrawler.crawler - starting 2 parser threads...\n",
      "2019-03-05 15:10:32,414 - INFO - icrawler.crawler - starting 1 downloader threads...\n",
      "2019-03-05 15:10:32,929 - INFO - parser - parsing result page https://www.google.com/search?q=dog&ijn=0&start=0&tbs=&tbm=isch\n",
      "2019-03-05 15:10:33,180 - INFO - downloader - image #1\thttps://media.graytvinc.com/images/810*455/1280x720_80212P00-CTRJJ.jpg\n",
      "2019-03-05 15:10:33,438 - INFO - downloader - image #2\thttps://www.akc.org/wp-content/themes/akc/component-library/assets/img/welcome.jpg\n",
      "2019-03-05 15:10:33,790 - INFO - downloader - image #3\thttps://upload.wikimedia.org/wikipedia/commons/d/d9/Collage_of_Nine_Dogs.jpg\n",
      "2019-03-05 15:10:33,964 - INFO - downloader - image #4\thttps://ichef.bbci.co.uk/news/660/cpsprodpb/12A0A/production/_105889267_gettyimages-185227692.jpg\n",
      "2019-03-05 15:10:34,414 - INFO - parser - no more page urls for thread parser-002 to parse\n",
      "2019-03-05 15:10:34,417 - INFO - parser - thread parser-002 exit\n",
      "2019-03-05 15:10:36,785 - INFO - downloader - image #5\thttps://www.guidedogs.org/wp-content/uploads/2018/01/Mobile.jpg\n",
      "2019-03-05 15:10:36,983 - INFO - downloader - image #6\thttps://thenypost.files.wordpress.com/2018/10/102318-dogs-color-determine-disesases-life.jpg?quality=90&strip=all&w=618&h=410&crop=1\n",
      "2019-03-05 15:10:38,058 - INFO - downloader - image #7\thttps://nhl.bamcontent.com/images/photos/301406224/1024x576/cut.jpg\n",
      "2019-03-05 15:10:38,342 - INFO - downloader - image #8\thttps://fortunedotcom.files.wordpress.com/2019/01/boo.jpg\n",
      "2019-03-05 15:10:38,517 - INFO - downloader - image #9\thttps://cdn.psychologytoday.com/sites/default/files/styles/article-inline-half/public/field_blog_entry_images/2018-02/vicious_dog_0.png?itok=nsghKOHs\n",
      "2019-03-05 15:10:38,748 - INFO - downloader - image #10\thttps://pixel.nymag.com/imgs/fashion/daily/2019/02/28/28-yellow-lab.w700.h700.jpg\n",
      "2019-03-05 15:10:38,893 - INFO - downloader - downloaded images reach max num, thread downloader-001 is ready to exit\n",
      "2019-03-05 15:10:38,895 - INFO - downloader - thread downloader-001 exit\n",
      "2019-03-05 15:10:38,993 - INFO - parser - downloaded image reached max num, thread parser-001 is ready to exit\n",
      "2019-03-05 15:10:38,994 - INFO - parser - thread parser-001 exit\n",
      "2019-03-05 15:10:39,423 - INFO - icrawler.crawler - Crawling task done!\n",
      "2019-03-05 15:10:39,437 - INFO - icrawler.crawler - start crawling...\n",
      "2019-03-05 15:10:39,437 - INFO - icrawler.crawler - starting 1 feeder threads...\n",
      "2019-03-05 15:10:39,438 - INFO - feeder - thread feeder-001 exit\n",
      "2019-03-05 15:10:39,438 - INFO - icrawler.crawler - starting 2 parser threads...\n",
      "2019-03-05 15:10:39,441 - INFO - icrawler.crawler - starting 1 downloader threads...\n",
      "2019-03-05 15:10:40,003 - INFO - parser - parsing result page https://www.google.com/search?q=cat&ijn=0&start=0&tbs=&tbm=isch\n",
      "2019-03-05 15:10:40,275 - INFO - downloader - image #1\thttps://static.boredpanda.com/blog/wp-content/uploads/2018/04/5acb63d83493f__700-png.jpg\n",
      "2019-03-05 15:10:40,519 - INFO - downloader - image #2\thttps://www.catster.com/wp-content/uploads/2018/07/Savannah-cat-long-body-shot.jpg\n",
      "2019-03-05 15:10:40,746 - INFO - downloader - image #3\thttps://upload.wikimedia.org/wikipedia/commons/thumb/3/3a/Cat03.jpg/1200px-Cat03.jpg\n",
      "2019-03-05 15:10:40,941 - INFO - downloader - image #4\thttps://news.nationalgeographic.com/content/dam/news/2018/05/17/you-can-train-your-cat/02-cat-training-NationalGeographic_1484324.ngsversion.1526587209178.adapt.1900.1.jpg\n",
      "2019-03-05 15:10:41,441 - INFO - parser - no more page urls for thread parser-002 to parse\n",
      "2019-03-05 15:10:41,443 - INFO - parser - thread parser-002 exit\n",
      "2019-03-05 15:10:41,746 - INFO - downloader - image #5\thttps://cdn.pixabay.com/photo/2017/02/20/18/03/cat-2083492_960_720.jpg\n",
      "2019-03-05 15:10:41,991 - INFO - downloader - image #6\thttps://www.humanesociety.org/sites/default/files/2018/06/cat-217679.jpg\n",
      "2019-03-05 15:10:42,135 - INFO - downloader - image #7\thttps://r.hswstatic.com/w_907/gif/tesla-cat.jpg\n",
      "2019-03-05 15:10:42,228 - INFO - downloader - image #8\thttps://www.catster.com/wp-content/uploads/2017/08/A-fluffy-cat-looking-funny-surprised-or-concerned.jpg\n",
      "2019-03-05 15:10:42,828 - INFO - downloader - image #9\thttp://www.petmd.com/sites/default/files/what-does-it-mean-when-cat-wags-tail.jpg\n",
      "2019-03-05 15:10:43,397 - INFO - downloader - image #10\thttps://cdn-images-1.medium.com/max/1600/1*mONNI1lG9VuiqovpnYqicA.jpeg\n",
      "2019-03-05 15:10:43,645 - INFO - downloader - downloaded images reach max num, thread downloader-001 is ready to exit\n",
      "2019-03-05 15:10:43,647 - INFO - downloader - thread downloader-001 exit\n",
      "2019-03-05 15:10:44,448 - INFO - icrawler.crawler - Crawling task done!\n",
      "2019-03-05 15:10:45,402 - INFO - parser - downloaded image reached max num, thread parser-001 is ready to exit\n",
      "2019-03-05 15:10:45,404 - INFO - parser - thread parser-001 exit\n"
     ]
    }
   ],
   "source": [
    "for keyword in ['dog', 'cat']:\n",
    "    google_crawler = GoogleImageCrawler(\n",
    "        parser_threads=2, \n",
    "        storage={'root_dir': 'images/{}'.format(keyword)}\n",
    "        \n",
    "    )\n",
    "    google_crawler.crawl(keyword=keyword, max_num=10, min_size=(200, 200))"
   ]
  },
  {
   "cell_type": "code",
   "execution_count": 5,
   "metadata": {},
   "outputs": [],
   "source": [
    "from google_images_download import google_images_download"
   ]
  },
  {
   "cell_type": "code",
   "execution_count": 6,
   "metadata": {},
   "outputs": [],
   "source": [
    "response = google_images_download.googleimagesdownload()"
   ]
  },
  {
   "cell_type": "code",
   "execution_count": 7,
   "metadata": {},
   "outputs": [],
   "source": [
    "arguments = {'keywords':'car',\n",
    "            'limit':10, \n",
    "            'format': 'jpg', \n",
    "            'output_directory': 'images/', \n",
    "            'chromedriver': '/home/leshen/Desktop/Deep_learning/chromedriver', \n",
    "            'print_urls': False, \n",
    "            }"
   ]
  },
  {
   "cell_type": "code",
   "execution_count": 8,
   "metadata": {},
   "outputs": [
    {
     "name": "stdout",
     "output_type": "stream",
     "text": [
      "\n",
      "Item no.: 1 --> Item name = car\n",
      "Evaluating...\n",
      "Starting Download...\n",
      "Completed Image ====> 1. jaguar_i-pace_s_indus-silver_065.jpg\n",
      "Completed Image ====> 2. bmw-ta.jpg\n",
      "Completed Image ====> 3. a182669_medium.0.jpg\n",
      "Completed Image ====> 4. img_0444-2.jpg\n",
      "Completed Image ====> 5. img-87449141-1543521013951.jpg\n",
      "Completed Image ====> 6. 592f4169b74af41b008b5977-750-563.jpg\n",
      "Completed Image ====> 7. 00-mercedes-benz-vision-eq-silver-arrow-2018-show-car-world-premiere-3400x1440.jpg\n",
      "Completed Image ====> 8. heres-why-the-mclaren-720s-worth-280000-is-a-difficult-car-to-love.jpg\n",
      "Completed Image ====> 9. cr-inline-top-picks-toyota-yaris-02-17.jpg\n",
      "Completed Image ====> 10. mazda-vision-coupe-wins-2018-concept-car-of-the-year-4.jpg\n",
      "\n",
      "Errors: 0\n",
      "\n"
     ]
    },
    {
     "data": {
      "text/plain": [
       "{'car': ['/home/leshen/Desktop/Deep_learning/images/car/1. jaguar_i-pace_s_indus-silver_065.jpg',\n",
       "  '/home/leshen/Desktop/Deep_learning/images/car/2. bmw-ta.jpg',\n",
       "  '/home/leshen/Desktop/Deep_learning/images/car/3. a182669_medium.0.jpg',\n",
       "  '/home/leshen/Desktop/Deep_learning/images/car/4. img_0444-2.jpg',\n",
       "  '/home/leshen/Desktop/Deep_learning/images/car/5. img-87449141-1543521013951.jpg',\n",
       "  '/home/leshen/Desktop/Deep_learning/images/car/6. 592f4169b74af41b008b5977-750-563.jpg',\n",
       "  '/home/leshen/Desktop/Deep_learning/images/car/7. 00-mercedes-benz-vision-eq-silver-arrow-2018-show-car-world-premiere-3400x1440.jpg',\n",
       "  '/home/leshen/Desktop/Deep_learning/images/car/8. heres-why-the-mclaren-720s-worth-280000-is-a-difficult-car-to-love.jpg',\n",
       "  '/home/leshen/Desktop/Deep_learning/images/car/9. cr-inline-top-picks-toyota-yaris-02-17.jpg',\n",
       "  '/home/leshen/Desktop/Deep_learning/images/car/10. mazda-vision-coupe-wins-2018-concept-car-of-the-year-4.jpg']}"
      ]
     },
     "execution_count": 8,
     "metadata": {},
     "output_type": "execute_result"
    }
   ],
   "source": [
    "response.download(arguments)"
   ]
  },
  {
   "cell_type": "code",
   "execution_count": 9,
   "metadata": {},
   "outputs": [],
   "source": [
    "import os"
   ]
  },
  {
   "cell_type": "code",
   "execution_count": 10,
   "metadata": {},
   "outputs": [],
   "source": [
    "imdir = 'images/car/'"
   ]
  },
  {
   "cell_type": "code",
   "execution_count": 11,
   "metadata": {},
   "outputs": [],
   "source": [
    "#renaming images\n",
    "n = 0\n",
    "for imfile in os.scandir(imdir):\n",
    "    os.rename(imfile.path, os.path.join(imdir, '{:06}.jpg'.format(n)))\n",
    "    n += 1"
   ]
  },
  {
   "cell_type": "code",
   "execution_count": null,
   "metadata": {},
   "outputs": [],
   "source": []
  }
 ],
 "metadata": {
  "kernelspec": {
   "display_name": "Python 3",
   "language": "python",
   "name": "python3"
  },
  "language_info": {
   "codemirror_mode": {
    "name": "ipython",
    "version": 3
   },
   "file_extension": ".py",
   "mimetype": "text/x-python",
   "name": "python",
   "nbconvert_exporter": "python",
   "pygments_lexer": "ipython3",
   "version": "3.6.5"
  }
 },
 "nbformat": 4,
 "nbformat_minor": 2
}
